{
 "cells": [
  {
   "cell_type": "code",
   "execution_count": 1,
   "id": "b432fd0c",
   "metadata": {},
   "outputs": [],
   "source": [
    "import pyaudio\n",
    "import wave\n",
    "import whisper\n",
    "import time\n",
    "import warnings\n",
    "warnings.filterwarnings('ignore')\n",
    "from transformers import pipeline\n",
    "import threading"
   ]
  },
  {
   "cell_type": "code",
   "execution_count": 2,
   "id": "3d66b833",
   "metadata": {},
   "outputs": [],
   "source": [
    "class System:\n",
    "    def __init__(self):\n",
    "        self.audio = pyaudio.PyAudio()\n",
    "        self.stream = self.audio.open(format=pyaudio.paInt16, channels=1, rate=44100, input=True, frames_per_buffer=1024)\n",
    "        self.model = pipe = pipeline(model=\"seifooo/names-whisper-en\")  # change to \"your-username/the-name-you-picked\"\n",
    "        self.duration = 1\n",
    "        self.filename = 'audio.wav'\n",
    "        self.text = \"\"\n",
    "        self.result_arr = []\n",
    "        self.frames = []\n",
    "        \n",
    "    def record_audio(self):\n",
    "        start_time = time.time()\n",
    "        \n",
    "        while (time.time() - start_time) < self.duration:\n",
    "            data = self.stream.read(1024)\n",
    "            self.frames.append(data)\n",
    "\n",
    "        with wave.open(self.filename, 'wb') as wf:\n",
    "            wf.setnchannels(1)\n",
    "            wf.setsampwidth(self.audio.get_sample_size(pyaudio.paInt16))\n",
    "            wf.setframerate(44100)\n",
    "            wf.writeframes(b''.join(self.frames))\n",
    "            \n",
    "    def transcribe_audio(self):\n",
    "        result = self.model.transcribe(self.filename)\n",
    "        #print(result[\"text\"])\n",
    "        self.result_arr.append(result[\"text\"])\n",
    "        if \".\" in result[\"text\"]:\n",
    "            self.duration = 1\n",
    "        else:\n",
    "            self.duration+=1\n",
    "        #print(\"duration {}\".format(self.duration))\n",
    "    \n",
    "    def check_result(self):\n",
    "        self.text = self.result_arr[len(self.result_arr)-1]\n",
    "        # check unconfirmed and confirmed words based on frequancy in the result_arr\n",
    "        # example: hi we are going to spain\n",
    "        #          hi where going to spain today is a good day\n",
    "        # where, today, is, a, good, day are unconfirmed but the rest is confirmed\n",
    "        # next iteration: hi we are going to spain today is a good day and we like pizza\n",
    "        # we are gets confirmed since it is repeated twice and so is today is a good day\n",
    "        print(self.text, end=\"\\r\")\n",
    "            \n",
    "    def record_and_transcribe(self):\n",
    "        try:\n",
    "            while True:\n",
    "                self.record_audio()\n",
    "                self.transcribe_audio()\n",
    "                self.check_result()\n",
    "        \n",
    "        except KeyboardInterrupt:\n",
    "            pass\n",
    "\n",
    "        self.stream.stop_stream()\n",
    "        self.stream.close()\n",
    "        self.audio.terminate()\n",
    "\n"
   ]
  },
  {
   "cell_type": "code",
   "execution_count": 3,
   "id": "d7ba1046",
   "metadata": {},
   "outputs": [
    {
     "name": "stderr",
     "output_type": "stream",
     "text": [
      "ALSA lib pcm.c:2664:(snd_pcm_open_noupdate) Unknown PCM cards.pcm.rear\n",
      "ALSA lib pcm.c:2664:(snd_pcm_open_noupdate) Unknown PCM cards.pcm.center_lfe\n",
      "ALSA lib pcm.c:2664:(snd_pcm_open_noupdate) Unknown PCM cards.pcm.side\n",
      "ALSA lib pcm_route.c:877:(find_matching_chmap) Found no matching channel map\n",
      "ALSA lib pcm_route.c:877:(find_matching_chmap) Found no matching channel map\n",
      "ALSA lib pcm_route.c:877:(find_matching_chmap) Found no matching channel map\n",
      "ALSA lib pcm_route.c:877:(find_matching_chmap) Found no matching channel map\n",
      "ALSA lib pcm_oss.c:397:(_snd_pcm_oss_open) Cannot open device /dev/dsp\n",
      "ALSA lib pcm_oss.c:397:(_snd_pcm_oss_open) Cannot open device /dev/dsp\n",
      "ALSA lib confmisc.c:160:(snd_config_get_card) Invalid field card\n",
      "ALSA lib pcm_usb_stream.c:482:(_snd_pcm_usb_stream_open) Invalid card 'card'\n",
      "ALSA lib confmisc.c:160:(snd_config_get_card) Invalid field card\n",
      "ALSA lib pcm_usb_stream.c:482:(_snd_pcm_usb_stream_open) Invalid card 'card'\n"
     ]
    },
    {
     "name": "stdout",
     "output_type": "stream",
     "text": [
      " Here we will check how the whisper transcription works and how related it is to a little Amazon transformers.\r"
     ]
    }
   ],
   "source": [
    "system = System()\n",
    "system.record_and_transcribe()"
   ]
  },
  {
   "cell_type": "code",
   "execution_count": 20,
   "id": "71e2ffd8",
   "metadata": {},
   "outputs": [],
   "source": []
  },
  {
   "cell_type": "code",
   "execution_count": 21,
   "id": "92cb3026",
   "metadata": {},
   "outputs": [],
   "source": []
  }
 ],
 "metadata": {
  "kernelspec": {
   "display_name": "Python 3 (ipykernel)",
   "language": "python",
   "name": "python3"
  },
  "language_info": {
   "codemirror_mode": {
    "name": "ipython",
    "version": 3
   },
   "file_extension": ".py",
   "mimetype": "text/x-python",
   "name": "python",
   "nbconvert_exporter": "python",
   "pygments_lexer": "ipython3",
   "version": "3.11.5"
  }
 },
 "nbformat": 4,
 "nbformat_minor": 5
}
